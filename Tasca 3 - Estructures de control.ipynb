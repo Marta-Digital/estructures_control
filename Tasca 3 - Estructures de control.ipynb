{
 "cells": [
  {
   "cell_type": "markdown",
   "metadata": {},
   "source": [
    "![logo](banner.jpg)"
   ]
  },
  {
   "cell_type": "markdown",
   "metadata": {},
   "source": [
    "<h1><center><span style=\"color:blue\">TASCA 3 - IT Academy</span></center></h1>\n",
    "<h2><center><span style=\"color:blue\">Curs Data Science</span></center></h2>"
   ]
  },
  {
   "cell_type": "markdown",
   "metadata": {},
   "source": [
    "### <span style=\"color:black\">Exercici 1.</span>"
   ]
  },
  {
   "cell_type": "markdown",
   "metadata": {},
   "source": [
    "L'exercici consisteix a crear un programa que et classifiqui una variable numèrica en funció de l’escala Suspès/Aprovat/Notable/Excel·lent: <span style=\"color:blue\">__[X] Fet__</span>"
   ]
  },
  {
   "cell_type": "code",
   "execution_count": 3,
   "metadata": {},
   "outputs": [
    {
     "name": "stdout",
     "output_type": "stream",
     "text": [
      "Aprovat\n",
      "Suspès\n",
      "Excel·lent\n"
     ]
    }
   ],
   "source": [
    "def nota(x):\n",
    "    if x < 5:\n",
    "        print (\"Suspès\")\n",
    "    elif x >= 5 and x < 7:\n",
    "        print (\"Aprovat\")\n",
    "    elif x > 7 and x < 9:\n",
    "        print (\"Notable\")\n",
    "    else:\n",
    "        print (\"Excel·lent\")\n",
    "\n",
    "\n",
    "nota(6)\n",
    "nota(4.5)\n",
    "nota(9.05)\n"
   ]
  },
  {
   "cell_type": "markdown",
   "metadata": {},
   "source": [
    "### <span style=\"color:black\">Exercici 2.</span>"
   ]
  },
  {
   "cell_type": "markdown",
   "metadata": {},
   "source": [
    "Crea un programa que et pregunti dos números. T’ha de mostrar un missatge dient si el primer és més gran, el segon és més gran o són iguals:<span style=\"color:blue\">__[X] Fet__</span>"
   ]
  },
  {
   "cell_type": "code",
   "execution_count": 6,
   "metadata": {},
   "outputs": [
    {
     "name": "stdout",
     "output_type": "stream",
     "text": [
      "Escriu el primer nombre: 7\n",
      "Escriu el segon nombre: 5\n",
      "El primer nombre és més gran que el segon\n"
     ]
    }
   ],
   "source": [
    "num1=input(\"Escriu el primer nombre: \")\n",
    "num2=input(\"Escriu el segon nombre: \")\n",
    "\n",
    "def nombres(num1,num2):\n",
    "    if num1 == num2:\n",
    "        print(\"Els nombres escrit són iguals\")\n",
    "    elif num1 > num2:\n",
    "        print(\"El primer nombre és més gran que el segon\")\n",
    "    else:\n",
    "        print(\"El segon nombre és més gran que el primer\")\n",
    "\n",
    "nombres(num1,num2)"
   ]
  },
  {
   "cell_type": "markdown",
   "metadata": {},
   "source": [
    "### <span style=\"color:black\">Exercici 3.</span>"
   ]
  },
  {
   "cell_type": "markdown",
   "metadata": {},
   "source": [
    "Crea un programa que et pregunti el teu nom, i et demani un número. Si el número és 0, hauria de mostrar un missatge d’error. En cas contrari, hauria de mostrar el nom repetit tants cops com indiqui el número: <span style=\"color:blue\">__[X] Fet__</span>"
   ]
  },
  {
   "cell_type": "code",
   "execution_count": 1,
   "metadata": {},
   "outputs": [
    {
     "name": "stdout",
     "output_type": "stream",
     "text": [
      "Escriu el teu nom: Marta\n",
      "Escriu un nombre de forma aleatòria: 5\n",
      "MartaMartaMartaMartaMarta\n"
     ]
    }
   ],
   "source": [
    "nom=input(\"Escriu el teu nom: \")\n",
    "nombre=int(input(\"Escriu un nombre de forma aleatòria: \"))\n",
    "\n",
    "def programa (nom,nombre):\n",
    "    if nombre == 0:\n",
    "        print(\"Error message\")\n",
    "    else:\n",
    "        print(nom * nombre)\n",
    "    \n",
    "programa(nom, nombre)"
   ]
  },
  {
   "cell_type": "markdown",
   "metadata": {},
   "source": [
    "### <span style=\"color:black\">Exercici 4.</span>"
   ]
  },
  {
   "cell_type": "markdown",
   "metadata": {},
   "source": [
    "Crea un programa que donada una llista qualsevol, et digui si es simètrica o no. Si ho és, que et digui quants elements té:<span style=\"color:blue\">__[X] Fet__</span>"
   ]
  },
  {
   "cell_type": "code",
   "execution_count": 28,
   "metadata": {},
   "outputs": [],
   "source": [
    "lista=[5,4,4,5]\n",
    "lista2=[5,6,8,42,78]\n",
    "\n",
    "def simetrica(X):\n",
    "    if len(X) < 2:\n",
    "        return True\n",
    "    if X[0]==X[-1]:\n",
    "        print(\"La lista es simétrica\")\n",
    "        return simetrica(X[1:-2])\n",
    "    else:\n",
    "        return print(\"La lista no es simétrica y tiene\", len(X), \"elementos.\")"
   ]
  },
  {
   "cell_type": "code",
   "execution_count": 29,
   "metadata": {},
   "outputs": [
    {
     "name": "stdout",
     "output_type": "stream",
     "text": [
      "La lista es simétrica\n"
     ]
    },
    {
     "data": {
      "text/plain": [
       "True"
      ]
     },
     "execution_count": 29,
     "metadata": {},
     "output_type": "execute_result"
    }
   ],
   "source": [
    "simetrica(lista)"
   ]
  },
  {
   "cell_type": "code",
   "execution_count": 30,
   "metadata": {},
   "outputs": [
    {
     "name": "stdout",
     "output_type": "stream",
     "text": [
      "La lista no es simétrica y tiene 5 elementos.\n"
     ]
    }
   ],
   "source": [
    "simetrica(lista2)"
   ]
  },
  {
   "cell_type": "markdown",
   "metadata": {},
   "source": [
    "### <span style=\"color:black\">Exercici 5.</span>"
   ]
  },
  {
   "cell_type": "markdown",
   "metadata": {},
   "source": [
    "Crea un programa que donada una llista, et digui quants números coincideixen amb la seva posició: <span style=\"color:blue\">__[X] Fet__</span>"
   ]
  },
  {
   "cell_type": "code",
   "execution_count": 113,
   "metadata": {},
   "outputs": [],
   "source": [
    "listado=[20,1,76,94,4,12,8,9,6,85,10,74,36]"
   ]
  },
  {
   "cell_type": "code",
   "execution_count": 114,
   "metadata": {},
   "outputs": [],
   "source": [
    "def coincidentes(X):\n",
    "    for index, value in enumerate(listado): \n",
    "        if index==value:\n",
    "            print(index)\n",
    "        "
   ]
  },
  {
   "cell_type": "code",
   "execution_count": 115,
   "metadata": {},
   "outputs": [
    {
     "name": "stdout",
     "output_type": "stream",
     "text": [
      "1\n",
      "4\n",
      "10\n"
     ]
    }
   ],
   "source": [
    "coincidentes(listado)"
   ]
  },
  {
   "cell_type": "code",
   "execution_count": 70,
   "metadata": {},
   "outputs": [],
   "source": [
    "def cuenta_coincidentes(l1, l2):\n",
    "    res = 0\n",
    "    num_elem = len(l1)\n",
    "    for x in range(num_elem):\n",
    "        if l1[x] == l2[x]:\n",
    "            res += 1\n",
    "    return res;"
   ]
  },
  {
   "cell_type": "code",
   "execution_count": 46,
   "metadata": {},
   "outputs": [],
   "source": [
    "def coincidentes(X):\n",
    "    num_elem=len(X)\n",
    "    for i in range (num_elem):\n",
    "        if i[0]==i:\n",
    "            return coincidentes(i[1:(i+1)])    \n",
    "        else:\n",
    "            return print(\"No hay números coincidentes con su posición\")"
   ]
  }
 ],
 "metadata": {
  "kernelspec": {
   "display_name": "Python 3",
   "language": "python",
   "name": "python3"
  },
  "language_info": {
   "codemirror_mode": {
    "name": "ipython",
    "version": 3
   },
   "file_extension": ".py",
   "mimetype": "text/x-python",
   "name": "python",
   "nbconvert_exporter": "python",
   "pygments_lexer": "ipython3",
   "version": "3.7.4"
  }
 },
 "nbformat": 4,
 "nbformat_minor": 4
}
